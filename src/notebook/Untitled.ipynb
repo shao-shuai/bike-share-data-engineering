{
 "cells": [
  {
   "cell_type": "code",
   "execution_count": 1,
   "metadata": {},
   "outputs": [],
   "source": [
    "from pyspark.sql.functions import year\n",
    "from pyspark.sql.functions import month\n",
    "from pyspark.sql.functions import dayofyear\n",
    "from pyspark.sql.functions import dayofweek\n",
    "from pyspark.sql.functions import dayofmonth\n",
    "from pyspark.sql.functions import weekofyear\n",
    "from pyspark.sql.functions import hour\n",
    "from pyspark.sql.functions import col\n",
    "from pyspark.sql.functions import monotonically_increasing_id"
   ]
  },
  {
   "cell_type": "code",
   "execution_count": 2,
   "metadata": {},
   "outputs": [],
   "source": [
    "spark = SparkSession \\\n",
    "        .builder \\\n",
    "        .config(\"spark.jars.packages\", \"org.apache.hadoop:hadoop-aws:2.7.0\") \\\n",
    "        .getOrCreate()"
   ]
  },
  {
   "cell_type": "code",
   "execution_count": 16,
   "metadata": {},
   "outputs": [],
   "source": [
    "df = spark.read.csv('/Users/shuaishao/udacity/bike-share-data-engineering/dataset/weather_data/*.csv', header=True)"
   ]
  },
  {
   "cell_type": "code",
   "execution_count": 28,
   "metadata": {},
   "outputs": [
    {
     "data": {
      "text/plain": [
       "DataFrame[date: string, temperature: string, temperature_min: string, temperature_max: string, precipitation: string, winddirection: string, windspeed: string, pressure: string, station: string]"
      ]
     },
     "execution_count": 28,
     "metadata": {},
     "output_type": "execute_result"
    }
   ],
   "source": [
    "df.select(['date',\n",
    "\t\t\t\t\t\t\t 'temperature',\n",
    "\t\t\t\t\t\t\t 'temperature_min',\n",
    "\t\t\t\t\t\t\t 'temperature_max',\n",
    "\t\t\t\t\t\t\t 'precipitation',\n",
    "\t\t\t\t\t\t\t 'winddirection',\n",
    "\t\t\t\t\t\t\t 'windspeed',\n",
    "\t\t\t\t\t\t\t 'pressure',\n",
    "\t\t\t\t\t\t\t 'station'])"
   ]
  },
  {
   "cell_type": "code",
   "execution_count": 14,
   "metadata": {},
   "outputs": [],
   "source": [
    "df = df.select(\n",
    "    col('short_name').alias('station_short_name'),\n",
    "    col('external_id').alias('station_external_id'),\n",
    "    col('has_kiosk').alias('station_has_kiosk'),\n",
    "    col('rental_methods').alias('station_rental_methods'),\n",
    "    col('capacity').alias('station_capacity'),\n",
    "    col('region_id').alias('station_region_id'),\n",
    "    col('station_type').alias('station_type'),\n",
    "    col('name').alias('station_name'),\n",
    "    col('lon').alias('station_longitude'),\n",
    "    col('station_id').alias('station_id'),\n",
    "    col('lat').alias('station_latitude'),\n",
    "    col('weather_station_id')\n",
    "    \n",
    ")"
   ]
  },
  {
   "cell_type": "code",
   "execution_count": 15,
   "metadata": {},
   "outputs": [
    {
     "name": "stdout",
     "output_type": "stream",
     "text": [
      "+------------------+--------------------+-----------------+----------------------+----------------+-----------------+------------+--------------------+-------------------+----------+-----------------+------------------+\n",
      "|station_short_name| station_external_id|station_has_kiosk|station_rental_methods|station_capacity|station_region_id|station_type|        station_name|  station_longitude|station_id| station_latitude|weather_station_id|\n",
      "+------------------+--------------------+-----------------+----------------------+----------------+-----------------+------------+--------------------+-------------------+----------+-----------------+------------------+\n",
      "|            SF-G27|1b13a386-c5f4-42c...|             True|  ['KEY', 'CREDITCA...|              35|              3.0|     classic|Powell St BART St...|-122.40490436553955|         3|37.78637526861584|             74506|\n",
      "|            SF-G26|a00d04e6-0159-466...|             True|  ['KEY', 'CREDITCA...|              35|              3.0|     classic|Cyril Magnin St a...| -122.4089150084319|         4|37.78588062694133|             74506|\n",
      "|            SF-H26|a1e0b4b2-2c5c-420...|             True|  ['KEY', 'CREDITCA...|              35|              3.0|     classic|Powell St BART St...|-122.40844488143921|         5|37.78389935708493|             74506|\n",
      "|            SF-A27|23a2bad4-3ea1-454...|             True|  ['KEY', 'CREDITCA...|              23|              3.0|     classic|The Embarcadero a...|-122.40323400000001|         6|         37.80477|             74506|\n",
      "|             OK-L5|9e3efff1-3d42-46f...|             True|  ['KEY', 'CREDITCA...|              35|             12.0|     classic| Frank H Ogawa Plaza|-122.27173805236816|         7| 37.8045623549303|             74506|\n",
      "+------------------+--------------------+-----------------+----------------------+----------------+-----------------+------------+--------------------+-------------------+----------+-----------------+------------------+\n",
      "only showing top 5 rows\n",
      "\n"
     ]
    }
   ],
   "source": [
    "df.show(5)"
   ]
  },
  {
   "cell_type": "code",
   "execution_count": 8,
   "metadata": {},
   "outputs": [],
   "source": [
    "df = df.select(['short_name', 'external_id', 'has_kiosk', 'rental_methods', 'capacity', 'region_id', 'station_type', 'name', 'lon', 'station_id', 'lat', 'weather_station_id'])"
   ]
  },
  {
   "cell_type": "code",
   "execution_count": 12,
   "metadata": {},
   "outputs": [
    {
     "name": "stdout",
     "output_type": "stream",
     "text": [
      "+----------+--------------------+---------+--------------------+--------+---------+------------+--------------------+-------------------+----------+-----------------+------------------+\n",
      "|short_name|         external_id|has_kiosk|      rental_methods|capacity|region_id|station_type|                name|                lon|station_id|              lat|weather_station_id|\n",
      "+----------+--------------------+---------+--------------------+--------+---------+------------+--------------------+-------------------+----------+-----------------+------------------+\n",
      "|    SF-G27|1b13a386-c5f4-42c...|     True|['KEY', 'CREDITCA...|      35|      3.0|     classic|Powell St BART St...|-122.40490436553955|         3|37.78637526861584|             74506|\n",
      "|    SF-G26|a00d04e6-0159-466...|     True|['KEY', 'CREDITCA...|      35|      3.0|     classic|Cyril Magnin St a...| -122.4089150084319|         4|37.78588062694133|             74506|\n",
      "+----------+--------------------+---------+--------------------+--------+---------+------------+--------------------+-------------------+----------+-----------------+------------------+\n",
      "only showing top 2 rows\n",
      "\n"
     ]
    }
   ],
   "source": [
    "df.show(2)"
   ]
  },
  {
   "cell_type": "code",
   "execution_count": 45,
   "metadata": {},
   "outputs": [],
   "source": [
    "df = df.where(col(\"start_station_id\").isNotNull()) \\\n",
    "     .where(col(\"end_station_id\").isNotNull()) \\\n",
    "     .select(['duration_sec', 'start_time', 'end_time', 'start_station_id', 'end_station_id', 'bike_id', 'user_type', 'rental_access_method'])"
   ]
  },
  {
   "cell_type": "code",
   "execution_count": 86,
   "metadata": {},
   "outputs": [
    {
     "name": "stdout",
     "output_type": "stream",
     "text": [
      "+------------+--------------------+--------------------+----------------+--------------+-------+---------+--------------------+\n",
      "|duration_sec|          start_time|            end_time|start_station_id|end_station_id|bike_id|user_type|rental_access_method|\n",
      "+------------+--------------------+--------------------+----------------+--------------+-------+---------+--------------------+\n",
      "|       62083|2020-02-29 18:32:...|2020-03-01 11:47:...|             176|           267|   1993| Customer|                null|\n",
      "|        1364|2020-02-29 23:53:...|2020-03-01 00:16:...|             375|           506|  12402| Customer|                null|\n",
      "|         836|2020-02-29 23:54:...|2020-03-01 00:07:...|             375|           454|   2302| Customer|                null|\n",
      "|        1004|2020-02-29 23:48:...|2020-03-01 00:05:...|             179|           200|    902| Customer|                null|\n",
      "|        1007|2020-02-29 23:48:...|2020-03-01 00:05:...|             179|           200|  11578| Customer|                null|\n",
      "|         338|2020-02-29 23:57:...|2020-03-01 00:03:...|             182|           178|   3545| Customer|                null|\n",
      "|         570|2020-02-29 23:52:...|2020-03-01 00:02:...|             252|           252|   9577| Customer|                null|\n",
      "|        1001|2020-02-29 23:36:...|2020-02-29 23:52:...|               5|            39|  11867| Customer|                null|\n",
      "|        3247|2020-02-29 22:58:...|2020-02-29 23:52:...|             246|           252|   9577| Customer|                null|\n",
      "|         898|2020-02-29 23:35:...|2020-02-29 23:50:...|              95|            33|  11250| Customer|                null|\n",
      "+------------+--------------------+--------------------+----------------+--------------+-------+---------+--------------------+\n",
      "only showing top 10 rows\n",
      "\n"
     ]
    }
   ],
   "source": [
    "df.show(10)"
   ]
  },
  {
   "cell_type": "code",
   "execution_count": 55,
   "metadata": {},
   "outputs": [],
   "source": [
    "# Create start_time_table\n",
    "start_time_table = df.select([\"start_time\"]) \\\n",
    "            .withColumn(\"start_year\", year(\"start_time\")) \\\n",
    "            .withColumn(\"start_month\", month(\"start_time\")) \\\n",
    "            .withColumn(\"start_dayofyear\", dayofyear(\"start_time\")) \\\n",
    "            .withColumn(\"start_dayofmonth\", dayofmonth(\"start_time\")) \\\n",
    "            .withColumn(\"start_week\", weekofyear(\"start_time\")) \\\n",
    "            .withColumn(\"start_dayofweek\", dayofweek(\"start_time\")) \\\n",
    "            .withColumn(\"start_hour\", hour(\"start_time\"))"
   ]
  },
  {
   "cell_type": "code",
   "execution_count": 72,
   "metadata": {},
   "outputs": [
    {
     "name": "stdout",
     "output_type": "stream",
     "text": [
      "+--------------------+----------+-----------+---------------+----------------+----------+---------------+----------+\n",
      "|          start_time|start_year|start_month|start_dayofyear|start_dayofmonth|start_week|start_dayofweek|start_hour|\n",
      "+--------------------+----------+-----------+---------------+----------------+----------+---------------+----------+\n",
      "|2020-02-29 18:32:...|      2020|          2|             60|              29|         9|              7|        18|\n",
      "|2020-02-29 23:53:...|      2020|          2|             60|              29|         9|              7|        23|\n",
      "|2020-02-29 23:54:...|      2020|          2|             60|              29|         9|              7|        23|\n",
      "|2020-02-29 23:48:...|      2020|          2|             60|              29|         9|              7|        23|\n",
      "|2020-02-29 23:48:...|      2020|          2|             60|              29|         9|              7|        23|\n",
      "+--------------------+----------+-----------+---------------+----------------+----------+---------------+----------+\n",
      "only showing top 5 rows\n",
      "\n"
     ]
    }
   ],
   "source": [
    "start_time_table.show(5)"
   ]
  },
  {
   "cell_type": "code",
   "execution_count": 58,
   "metadata": {},
   "outputs": [],
   "source": [
    "# Create end_time_table\n",
    "end_time_table = df.select([\"end_time\"]) \\\n",
    "            .withColumn(\"end_year\", year(\"end_time\")) \\\n",
    "            .withColumn(\"end_month\", month(\"end_time\")) \\\n",
    "            .withColumn(\"end_dayofyear\", dayofyear(\"end_time\")) \\\n",
    "            .withColumn(\"end_dayofmonth\", dayofmonth(\"end_time\")) \\\n",
    "            .withColumn(\"end_week\", weekofyear(\"end_time\")) \\\n",
    "            .withColumn(\"end_dayofweek\", dayofweek(\"end_time\")) \\\n",
    "            .withColumn(\"end_hour\", hour(\"end_time\"))"
   ]
  },
  {
   "cell_type": "code",
   "execution_count": 73,
   "metadata": {},
   "outputs": [
    {
     "name": "stdout",
     "output_type": "stream",
     "text": [
      "+--------------------+--------+---------+-------------+--------------+--------+-------------+--------+\n",
      "|            end_time|end_year|end_month|end_dayofyear|end_dayofmonth|end_week|end_dayofweek|end_hour|\n",
      "+--------------------+--------+---------+-------------+--------------+--------+-------------+--------+\n",
      "|2020-03-01 11:47:...|    2020|        3|           61|             1|       9|            1|      11|\n",
      "|2020-03-01 00:16:...|    2020|        3|           61|             1|       9|            1|       0|\n",
      "|2020-03-01 00:07:...|    2020|        3|           61|             1|       9|            1|       0|\n",
      "|2020-03-01 00:05:...|    2020|        3|           61|             1|       9|            1|       0|\n",
      "|2020-03-01 00:05:...|    2020|        3|           61|             1|       9|            1|       0|\n",
      "+--------------------+--------+---------+-------------+--------------+--------+-------------+--------+\n",
      "only showing top 5 rows\n",
      "\n"
     ]
    }
   ],
   "source": [
    "end_time_table.show(5)"
   ]
  },
  {
   "cell_type": "code",
   "execution_count": 84,
   "metadata": {},
   "outputs": [],
   "source": [
    "# Write trip talbe\n",
    "df.write.partitionBy(['start_station_id']).parquet(os.path.join(output_data, 'trips'), 'overwrite')"
   ]
  },
  {
   "cell_type": "code",
   "execution_count": 80,
   "metadata": {},
   "outputs": [
    {
     "name": "stdout",
     "output_type": "stream",
     "text": [
      "+------------+--------------------+--------------------+----------------+--------------+-------+---------+--------------------+\n",
      "|duration_sec|          start_time|            end_time|start_station_id|end_station_id|bike_id|user_type|rental_access_method|\n",
      "+------------+--------------------+--------------------+----------------+--------------+-------+---------+--------------------+\n",
      "|       62083|2020-02-29 18:32:...|2020-03-01 11:47:...|             176|           267|   1993| Customer|                null|\n",
      "|        1364|2020-02-29 23:53:...|2020-03-01 00:16:...|             375|           506|  12402| Customer|                null|\n",
      "|         836|2020-02-29 23:54:...|2020-03-01 00:07:...|             375|           454|   2302| Customer|                null|\n",
      "|        1004|2020-02-29 23:48:...|2020-03-01 00:05:...|             179|           200|    902| Customer|                null|\n",
      "|        1007|2020-02-29 23:48:...|2020-03-01 00:05:...|             179|           200|  11578| Customer|                null|\n",
      "|         338|2020-02-29 23:57:...|2020-03-01 00:03:...|             182|           178|   3545| Customer|                null|\n",
      "|         570|2020-02-29 23:52:...|2020-03-01 00:02:...|             252|           252|   9577| Customer|                null|\n",
      "|        1001|2020-02-29 23:36:...|2020-02-29 23:52:...|               5|            39|  11867| Customer|                null|\n",
      "|        3247|2020-02-29 22:58:...|2020-02-29 23:52:...|             246|           252|   9577| Customer|                null|\n",
      "|         898|2020-02-29 23:35:...|2020-02-29 23:50:...|              95|            33|  11250| Customer|                null|\n",
      "+------------+--------------------+--------------------+----------------+--------------+-------+---------+--------------------+\n",
      "\n"
     ]
    }
   ],
   "source": [
    "# Write start time table\n",
    "start_time_table.write.partitionBy(['start_year', 'start_month']).parquet(os.path.join(output_data, 'start_time'), 'overwrite')"
   ]
  },
  {
   "cell_type": "code",
   "execution_count": null,
   "metadata": {},
   "outputs": [],
   "source": [
    "# Write end time table\n",
    "end_time_table.write.partitionBy(['end_year', 'end_month']).parquet(os.path.join(output_data, 'end_time'), 'overwrite')"
   ]
  },
  {
   "cell_type": "code",
   "execution_count": 88,
   "metadata": {},
   "outputs": [
    {
     "name": "stdout",
     "output_type": "stream",
     "text": [
      "+----------+------+\n",
      "|start_hour| count|\n",
      "+----------+------+\n",
      "|        17|328194|\n",
      "|         8|312658|\n",
      "|        18|257674|\n",
      "|         9|240115|\n",
      "|        16|211646|\n",
      "|        19|157631|\n",
      "|         7|156230|\n",
      "|        15|136340|\n",
      "|        12|124093|\n",
      "|        13|121510|\n",
      "|        10|121138|\n",
      "|        14|117731|\n",
      "|        11|113015|\n",
      "|        20| 99371|\n",
      "|        21| 70119|\n",
      "|         6| 58413|\n",
      "|        22| 47480|\n",
      "|        23| 28044|\n",
      "|         0| 15595|\n",
      "|         5| 14666|\n",
      "+----------+------+\n",
      "only showing top 20 rows\n",
      "\n"
     ]
    }
   ],
   "source": [
    "start_time_table.groupby(start_time_table.start_hour) \\\n",
    ".count() \\\n",
    ".sort(col(\"count\").desc()) \\\n",
    ".show(20)"
   ]
  },
  {
   "cell_type": "code",
   "execution_count": 71,
   "metadata": {},
   "outputs": [
    {
     "name": "stdout",
     "output_type": "stream",
     "text": [
      "+------------+--------------------+--------------------+----------------+--------------+-------+----------+--------------------+\n",
      "|duration_sec|          start_time|            end_time|start_station_id|end_station_id|bike_id| user_type|rental_access_method|\n",
      "+------------+--------------------+--------------------+----------------+--------------+-------+----------+--------------------+\n",
      "|        9999|2019-08-16 16:51:...|2019-08-16 19:38:...|             223|           120|   9884|Subscriber|                  No|\n",
      "|        9999|2019-05-21 13:34:...|2019-05-21 16:20:...|               6|           284|   1191|  Customer|                  No|\n",
      "|        9997|2019-03-15 21:50:...|2019-03-16 00:37:...|              16|             5|   6187|Subscriber|                  No|\n",
      "|        9996|2019-10-19 13:57:...|2019-10-19 16:43:...|             441|           400|  12765|  Customer|                  No|\n",
      "|        9995|2019-12-17 18:35:...|2019-12-17 21:22:...|              38|            23|  11521|  Customer|                null|\n",
      "+------------+--------------------+--------------------+----------------+--------------+-------+----------+--------------------+\n",
      "only showing top 5 rows\n",
      "\n"
     ]
    }
   ],
   "source": [
    "df.sort(col(\"duration_sec\").desc()).show(5)"
   ]
  },
  {
   "cell_type": "code",
   "execution_count": 90,
   "metadata": {},
   "outputs": [
    {
     "name": "stdout",
     "output_type": "stream",
     "text": [
      "+----------------+--------------+-----+\n",
      "|start_station_id|end_station_id|count|\n",
      "+----------------+--------------+-----+\n",
      "|              81|            15| 5401|\n",
      "|              15|             6| 5384|\n",
      "|               6|            16| 4198|\n",
      "|             196|           182| 4171|\n",
      "|             343|            21| 4144|\n",
      "|             182|           196| 3858|\n",
      "|               6|            15| 3492|\n",
      "|              15|            81| 3492|\n",
      "|              16|            81| 3368|\n",
      "|              50|            21| 3337|\n",
      "|              58|             3| 3322|\n",
      "|              21|            30| 3110|\n",
      "|              81|            22| 3077|\n",
      "|              16|             6| 3073|\n",
      "|              50|            15| 2992|\n",
      "|             296|           280| 2937|\n",
      "|              30|            21| 2885|\n",
      "|              58|            21| 2851|\n",
      "|              22|            30| 2799|\n",
      "|             195|           182| 2724|\n",
      "+----------------+--------------+-----+\n",
      "only showing top 20 rows\n",
      "\n"
     ]
    }
   ],
   "source": [
    "# Most popular route\n",
    "df.groupby(df.start_station_id,df.end_station_id) \\\n",
    ".count() \\\n",
    ".sort(col(\"count\").desc()) \\\n",
    ".show(20)"
   ]
  },
  {
   "cell_type": "code",
   "execution_count": 15,
   "metadata": {},
   "outputs": [
    {
     "name": "stdout",
     "output_type": "stream",
     "text": [
      "+------------+-------------------+-------------------+----------------+--------------+-------+----------+--------------------+\n",
      "|duration_sec|         start_time|           end_time|start_station_id|end_station_id|bike_id| user_type|rental_access_method|\n",
      "+------------+-------------------+-------------------+----------------+--------------+-------+----------+--------------------+\n",
      "|         298|2020-02-01 20:14:08|2020-02-01 20:19:06|             473|           415| 885034|Subscriber|                 app|\n",
      "|         393|2020-02-03 18:33:39|2020-02-03 18:40:12|             473|           415| 470367|Subscriber|                 app|\n",
      "|         284|2020-02-16 19:45:10|2020-02-16 19:49:54|             473|           415| 530223|Subscriber|                 app|\n",
      "|         296|2020-02-08 20:40:25|2020-02-08 20:45:22|             473|           415| 814402|Subscriber|                 app|\n",
      "|         799|2020-02-04 11:43:38|2020-02-04 11:56:57|             425|           425| 100235|  Customer|                 app|\n",
      "+------------+-------------------+-------------------+----------------+--------------+-------+----------+--------------------+\n",
      "only showing top 5 rows\n",
      "\n"
     ]
    }
   ],
   "source": [
    "df.where(col(\"rental_access_method\") != \"null\").show(5)"
   ]
  },
  {
   "cell_type": "code",
   "execution_count": 39,
   "metadata": {},
   "outputs": [],
   "source": [
    "start_station_id_null = df.where(col(\"start_station_id\").isNull())"
   ]
  },
  {
   "cell_type": "code",
   "execution_count": 41,
   "metadata": {},
   "outputs": [],
   "source": [
    "end_station_id_null = df.where(col(\"end_station_id\").isNull())"
   ]
  },
  {
   "cell_type": "code",
   "execution_count": 49,
   "metadata": {},
   "outputs": [
    {
     "name": "stdout",
     "output_type": "stream",
     "text": [
      "+----------------------+-----------------------+-----+\n",
      "|start_station_latitude|start_station_longitude|count|\n",
      "+----------------------+-----------------------+-----+\n",
      "|             37.776018|        -122.3923376667|   11|\n",
      "|         37.7611943333|        -122.4126463333|    3|\n",
      "|         37.7771103333|        -122.4176393333|    2|\n",
      "|            37.7338085|        -122.3907331667|    2|\n",
      "|         37.3404381667|        -121.8942118333|    2|\n",
      "|         37.7579751667|        -122.3887468333|    2|\n",
      "|            37.7508025|        -122.4163483333|    2|\n",
      "|            37.7537925|            -122.421005|    2|\n",
      "|         37.7569271667|        -122.4085536667|    2|\n",
      "|             37.771127|        -122.4081616667|    2|\n",
      "|         37.7609678333|        -122.4326971667|    2|\n",
      "|            37.7617205|        -122.4351831667|    2|\n",
      "|         37.7620843333|        -122.3897693333|    2|\n",
      "|         37.7632323333|        -122.4217113333|    2|\n",
      "|         37.7635276667|        -122.4179188333|    2|\n",
      "|         37.7648993333|           -122.4232715|    2|\n",
      "|         37.7687293333|        -122.4284071667|    2|\n",
      "|         37.7714266667|           -122.5076065|    2|\n",
      "|            37.7714775|        -122.4499423333|    2|\n",
      "|            37.7752825|        -122.4196946667|    2|\n",
      "+----------------------+-----------------------+-----+\n",
      "only showing top 20 rows\n",
      "\n"
     ]
    }
   ],
   "source": [
    "start_station_null_unique = start_station_id_null \\\n",
    "                            .groupby(start_station_id_null.start_station_latitude, start_station_id_null.start_station_longitude) \\\n",
    "                            .count() \\\n",
    "                            .sort(col(\"count\").desc()) \\\n",
    "                            .show(20)"
   ]
  },
  {
   "cell_type": "code",
   "execution_count": 48,
   "metadata": {},
   "outputs": [
    {
     "data": {
      "text/plain": [
       "566291"
      ]
     },
     "execution_count": 48,
     "metadata": {},
     "output_type": "execute_result"
    }
   ],
   "source": [
    "start_station_id_null.count()"
   ]
  },
  {
   "cell_type": "code",
   "execution_count": 25,
   "metadata": {},
   "outputs": [],
   "source": [
    "df = df['duration_sec', 'start_time', 'end_time', 'start_station_id', 'end_station_id', 'bike_id', 'user_type', 'rental_access_method'] \\\n",
    "    .distinct()"
   ]
  },
  {
   "cell_type": "code",
   "execution_count": 92,
   "metadata": {},
   "outputs": [],
   "source": [
    "data = spark.read.csv('/Users/shuaishao/udacity/bike-share-data-engineering/dataset/trip_data/201901-fordgobike-tripdata.csv', header=True)"
   ]
  },
  {
   "cell_type": "code",
   "execution_count": 93,
   "metadata": {},
   "outputs": [
    {
     "data": {
      "text/plain": [
       "['duration_sec',\n",
       " 'start_time',\n",
       " 'end_time',\n",
       " 'start_station_id',\n",
       " 'start_station_name',\n",
       " 'start_station_latitude',\n",
       " 'start_station_longitude',\n",
       " 'end_station_id',\n",
       " 'end_station_name',\n",
       " 'end_station_latitude',\n",
       " 'end_station_longitude',\n",
       " 'bike_id',\n",
       " 'user_type',\n",
       " 'bike_share_for_all_trip']"
      ]
     },
     "execution_count": 93,
     "metadata": {},
     "output_type": "execute_result"
    }
   ],
   "source": [
    "data.columns"
   ]
  },
  {
   "cell_type": "code",
   "execution_count": 94,
   "metadata": {},
   "outputs": [
    {
     "name": "stdout",
     "output_type": "stream",
     "text": [
      "+------------+--------------------+--------------------+----------------+--------------------+----------------------+-----------------------+--------------+--------------------+--------------------+---------------------+-------+----------+-----------------------+\n",
      "|duration_sec|          start_time|            end_time|start_station_id|  start_station_name|start_station_latitude|start_station_longitude|end_station_id|    end_station_name|end_station_latitude|end_station_longitude|bike_id| user_type|bike_share_for_all_trip|\n",
      "+------------+--------------------+--------------------+----------------+--------------------+----------------------+-----------------------+--------------+--------------------+--------------------+---------------------+-------+----------+-----------------------+\n",
      "|       80825|2019-01-31 17:57:...|2019-02-01 16:24:...|             229|Foothill Blvd at ...|            37.7757452|           -122.2130372|           196|Grand Ave at Perk...|        37.808893934|      -122.2564601898|   4861|Subscriber|                     No|\n",
      "|       65900|2019-01-31 20:58:...|2019-02-01 15:16:...|               4|Cyril Magnin St a...|         37.7858806269|        -122.4089150084|           134|Valencia St at 24...|          37.7524278|         -122.4206278|   5506|Subscriber|                     No|\n",
      "|       62633|2019-01-31 18:06:...|2019-02-01 11:30:...|             245|Downtown Berkeley...|             37.870139|            -122.268422|           157|65th St at Hollis St|          37.8467842|         -122.2913761|   2717|  Customer|                     No|\n",
      "|       44680|2019-01-31 19:46:...|2019-02-01 08:10:...|              85|Church St at Dubo...|            37.7700831|           -122.4291557|            53|Grove St at Divis...|           37.775946|         -122.4377775|   4557|  Customer|                     No|\n",
      "|       60709|2019-01-31 14:19:...|2019-02-01 07:10:...|              16|Steuart St at Mar...|              37.79413|             -122.39443|            28|The Embarcadero a...|       37.7871680147|      -122.3880979233|   2100|  Customer|                     No|\n",
      "+------------+--------------------+--------------------+----------------+--------------------+----------------------+-----------------------+--------------+--------------------+--------------------+---------------------+-------+----------+-----------------------+\n",
      "only showing top 5 rows\n",
      "\n"
     ]
    }
   ],
   "source": [
    "data.show(5)"
   ]
  },
  {
   "cell_type": "code",
   "execution_count": null,
   "metadata": {},
   "outputs": [],
   "source": []
  }
 ],
 "metadata": {
  "kernelspec": {
   "display_name": "Python 3",
   "language": "python",
   "name": "python3"
  },
  "language_info": {
   "codemirror_mode": {
    "name": "ipython",
    "version": 3
   },
   "file_extension": ".py",
   "mimetype": "text/x-python",
   "name": "python",
   "nbconvert_exporter": "python",
   "pygments_lexer": "ipython3",
   "version": "3.8.2"
  }
 },
 "nbformat": 4,
 "nbformat_minor": 4
}
