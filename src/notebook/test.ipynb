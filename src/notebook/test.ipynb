{
 "cells": [
  {
   "cell_type": "code",
   "execution_count": 1,
   "metadata": {},
   "outputs": [],
   "source": [
    "import requests\n",
    "import pandas as pd\n",
    "import sys\n",
    "import os"
   ]
  },
  {
   "cell_type": "code",
   "execution_count": 2,
   "metadata": {},
   "outputs": [],
   "source": [
    "path = '/Users/shuaishao/udacity/bike-share-data-engineering/dataset/trip_data/'"
   ]
  },
  {
   "cell_type": "code",
   "execution_count": 3,
   "metadata": {},
   "outputs": [],
   "source": [
    "a = os.walk(path)"
   ]
  },
  {
   "cell_type": "code",
   "execution_count": 4,
   "metadata": {},
   "outputs": [],
   "source": [
    "file = next(a)[2]"
   ]
  },
  {
   "cell_type": "code",
   "execution_count": 5,
   "metadata": {},
   "outputs": [],
   "source": [
    "file_path = [path + i for i in file]"
   ]
  },
  {
   "cell_type": "code",
   "execution_count": 6,
   "metadata": {},
   "outputs": [
    {
     "data": {
      "text/plain": [
       "['/Users/shuaishao/udacity/bike-share-data-engineering/dataset/trip_data/201909-baywheels-tripdata.csv',\n",
       " '/Users/shuaishao/udacity/bike-share-data-engineering/dataset/trip_data/201904-fordgobike-tripdata.csv',\n",
       " '/Users/shuaishao/udacity/bike-share-data-engineering/dataset/trip_data/201907-baywheels-tripdata.csv',\n",
       " '/Users/shuaishao/udacity/bike-share-data-engineering/dataset/trip_data/201903-fordgobike-tripdata.csv',\n",
       " '/Users/shuaishao/udacity/bike-share-data-engineering/dataset/trip_data/201906-baywheels-tripdata.csv',\n",
       " '/Users/shuaishao/udacity/bike-share-data-engineering/dataset/trip_data/201908-baywheels-tripdata.csv',\n",
       " '/Users/shuaishao/udacity/bike-share-data-engineering/dataset/trip_data/201905-baywheels-tripdata.csv',\n",
       " '/Users/shuaishao/udacity/bike-share-data-engineering/dataset/trip_data/201901-fordgobike-tripdata.csv',\n",
       " '/Users/shuaishao/udacity/bike-share-data-engineering/dataset/trip_data/202001-baywheels-tripdata.csv',\n",
       " '/Users/shuaishao/udacity/bike-share-data-engineering/dataset/trip_data/201910-baywheels-tripdata.csv',\n",
       " '/Users/shuaishao/udacity/bike-share-data-engineering/dataset/trip_data/202002-baywheels-tripdata.csv',\n",
       " '/Users/shuaishao/udacity/bike-share-data-engineering/dataset/trip_data/202003-baywheels-tripdata.csv',\n",
       " '/Users/shuaishao/udacity/bike-share-data-engineering/dataset/trip_data/201912-baywheels-tripdata.csv',\n",
       " '/Users/shuaishao/udacity/bike-share-data-engineering/dataset/trip_data/201911-baywheels-tripdata.csv',\n",
       " '/Users/shuaishao/udacity/bike-share-data-engineering/dataset/trip_data/201902-fordgobike-tripdata.csv']"
      ]
     },
     "execution_count": 6,
     "metadata": {},
     "output_type": "execute_result"
    }
   ],
   "source": [
    "file_path"
   ]
  },
  {
   "cell_type": "code",
   "execution_count": 7,
   "metadata": {
    "scrolled": true
   },
   "outputs": [
    {
     "name": "stdout",
     "output_type": "stream",
     "text": [
      "(217986, 14)\n",
      "(239111, 14)\n"
     ]
    },
    {
     "name": "stderr",
     "output_type": "stream",
     "text": [
      "/Users/shuaishao/udacity/bike-share-data-engineering/venv/lib/python3.8/site-packages/IPython/core/interactiveshell.py:3062: DtypeWarning: Columns (13,14) have mixed types. Specify dtype option on import or set low_memory=False.\n",
      "  has_raised = await self.run_ast_nodes(code_ast.body, cell_name,\n"
     ]
    },
    {
     "name": "stdout",
     "output_type": "stream",
     "text": [
      "(258102, 15)\n",
      "(256299, 14)\n"
     ]
    },
    {
     "name": "stderr",
     "output_type": "stream",
     "text": [
      "/Users/shuaishao/udacity/bike-share-data-engineering/venv/lib/python3.8/site-packages/IPython/core/interactiveshell.py:3062: DtypeWarning: Columns (14) have mixed types. Specify dtype option on import or set low_memory=False.\n",
      "  has_raised = await self.run_ast_nodes(code_ast.body, cell_name,\n"
     ]
    },
    {
     "name": "stdout",
     "output_type": "stream",
     "text": [
      "(191772, 15)\n",
      "(210563, 14)\n",
      "(182163, 14)\n",
      "(192082, 14)\n"
     ]
    },
    {
     "name": "stderr",
     "output_type": "stream",
     "text": [
      "/Users/shuaishao/udacity/bike-share-data-engineering/venv/lib/python3.8/site-packages/IPython/core/interactiveshell.py:3062: DtypeWarning: Columns (13) have mixed types. Specify dtype option on import or set low_memory=False.\n",
      "  has_raised = await self.run_ast_nodes(code_ast.body, cell_name,\n"
     ]
    },
    {
     "name": "stdout",
     "output_type": "stream",
     "text": [
      "(295854, 14)\n",
      "(239895, 14)\n",
      "(432354, 14)\n",
      "(176799, 14)\n",
      "(150102, 14)\n",
      "(185496, 15)\n",
      "(183412, 14)\n",
      "[217986, 239111, 258102, 256299, 191772, 210563, 182163, 192082, 295854, 239895, 432354, 176799, 150102, 185496, 183412]\n"
     ]
    }
   ],
   "source": [
    "total = []\n",
    "for i in file_path:\n",
    "    data = pd.read_csv(i)\n",
    "    print(data.shape)\n",
    "    total.append(data.shape[0])\n",
    "print(total)\n",
    "    #print(f'path is {i}, shape is {data.shape}'.format(i, data.shape))"
   ]
  },
  {
   "cell_type": "code",
   "execution_count": 8,
   "metadata": {},
   "outputs": [
    {
     "data": {
      "text/plain": [
       "3411990"
      ]
     },
     "execution_count": 8,
     "metadata": {},
     "output_type": "execute_result"
    }
   ],
   "source": [
    "sum(total)"
   ]
  },
  {
   "cell_type": "code",
   "execution_count": 28,
   "metadata": {},
   "outputs": [],
   "source": [
    "bug = pd.read_csv(file_path[2])"
   ]
  },
  {
   "cell_type": "code",
   "execution_count": 32,
   "metadata": {},
   "outputs": [
    {
     "data": {
      "text/plain": [
       "array(['No', 'Yes', nan], dtype=object)"
      ]
     },
     "execution_count": 32,
     "metadata": {},
     "output_type": "execute_result"
    }
   ],
   "source": [
    "bug.bike_share_for_all_trip.unique()"
   ]
  },
  {
   "cell_type": "code",
   "execution_count": 2,
   "metadata": {},
   "outputs": [],
   "source": [
    "url = 'https://gbfs.baywheels.com/gbfs/en/station_information.json'"
   ]
  },
  {
   "cell_type": "code",
   "execution_count": 3,
   "metadata": {},
   "outputs": [],
   "source": [
    "station_info = requests.get(url).json()"
   ]
  },
  {
   "cell_type": "code",
   "execution_count": 4,
   "metadata": {},
   "outputs": [],
   "source": [
    "station_info_df = pd.DataFrame(station_info['data']['stations'])"
   ]
  },
  {
   "cell_type": "code",
   "execution_count": 8,
   "metadata": {},
   "outputs": [
    {
     "data": {
      "text/html": [
       "<div>\n",
       "<style scoped>\n",
       "    .dataframe tbody tr th:only-of-type {\n",
       "        vertical-align: middle;\n",
       "    }\n",
       "\n",
       "    .dataframe tbody tr th {\n",
       "        vertical-align: top;\n",
       "    }\n",
       "\n",
       "    .dataframe thead th {\n",
       "        text-align: right;\n",
       "    }\n",
       "</style>\n",
       "<table border=\"1\" class=\"dataframe\">\n",
       "  <thead>\n",
       "    <tr style=\"text-align: right;\">\n",
       "      <th></th>\n",
       "      <th>short_name</th>\n",
       "      <th>external_id</th>\n",
       "      <th>has_kiosk</th>\n",
       "      <th>eightd_has_key_dispenser</th>\n",
       "      <th>electric_bike_surcharge_waiver</th>\n",
       "      <th>rental_methods</th>\n",
       "      <th>eightd_station_services</th>\n",
       "      <th>capacity</th>\n",
       "      <th>rental_uris</th>\n",
       "      <th>region_id</th>\n",
       "      <th>station_type</th>\n",
       "      <th>name</th>\n",
       "      <th>lon</th>\n",
       "      <th>station_id</th>\n",
       "      <th>lat</th>\n",
       "    </tr>\n",
       "  </thead>\n",
       "  <tbody>\n",
       "    <tr>\n",
       "      <th>0</th>\n",
       "      <td>SF-G27</td>\n",
       "      <td>1b13a386-c5f4-42cc-bc3b-ded95982e090</td>\n",
       "      <td>True</td>\n",
       "      <td>False</td>\n",
       "      <td>False</td>\n",
       "      <td>[CREDITCARD, KEY]</td>\n",
       "      <td>[]</td>\n",
       "      <td>35</td>\n",
       "      <td>{'android': 'https://sfo.lft.to/lastmile_qr_sc...</td>\n",
       "      <td>3</td>\n",
       "      <td>classic</td>\n",
       "      <td>Powell St BART Station (Market St at 4th St)</td>\n",
       "      <td>-122.404904</td>\n",
       "      <td>3</td>\n",
       "      <td>37.786375</td>\n",
       "    </tr>\n",
       "    <tr>\n",
       "      <th>1</th>\n",
       "      <td>SF-G26</td>\n",
       "      <td>a00d04e6-0159-466a-b3ab-23f9550f418c</td>\n",
       "      <td>True</td>\n",
       "      <td>False</td>\n",
       "      <td>False</td>\n",
       "      <td>[CREDITCARD, KEY]</td>\n",
       "      <td>[]</td>\n",
       "      <td>35</td>\n",
       "      <td>{'android': 'https://sfo.lft.to/lastmile_qr_sc...</td>\n",
       "      <td>3</td>\n",
       "      <td>classic</td>\n",
       "      <td>Cyril Magnin St at Ellis St</td>\n",
       "      <td>-122.408915</td>\n",
       "      <td>4</td>\n",
       "      <td>37.785881</td>\n",
       "    </tr>\n",
       "    <tr>\n",
       "      <th>2</th>\n",
       "      <td>SF-H26</td>\n",
       "      <td>a1e0b4b2-2c5c-4201-a78c-9e8a2152ab4e</td>\n",
       "      <td>True</td>\n",
       "      <td>False</td>\n",
       "      <td>False</td>\n",
       "      <td>[CREDITCARD, KEY]</td>\n",
       "      <td>[]</td>\n",
       "      <td>35</td>\n",
       "      <td>{'android': 'https://sfo.lft.to/lastmile_qr_sc...</td>\n",
       "      <td>3</td>\n",
       "      <td>classic</td>\n",
       "      <td>Powell St BART Station (Market St at 5th St)</td>\n",
       "      <td>-122.408445</td>\n",
       "      <td>5</td>\n",
       "      <td>37.783899</td>\n",
       "    </tr>\n",
       "    <tr>\n",
       "      <th>3</th>\n",
       "      <td>SF-A27</td>\n",
       "      <td>23a2bad4-3ea1-4545-87eb-acbee3efccfc</td>\n",
       "      <td>True</td>\n",
       "      <td>False</td>\n",
       "      <td>False</td>\n",
       "      <td>[CREDITCARD, KEY]</td>\n",
       "      <td>[]</td>\n",
       "      <td>23</td>\n",
       "      <td>{'android': 'https://sfo.lft.to/lastmile_qr_sc...</td>\n",
       "      <td>3</td>\n",
       "      <td>classic</td>\n",
       "      <td>The Embarcadero at Sansome St</td>\n",
       "      <td>-122.403234</td>\n",
       "      <td>6</td>\n",
       "      <td>37.804770</td>\n",
       "    </tr>\n",
       "    <tr>\n",
       "      <th>4</th>\n",
       "      <td>OK-L5</td>\n",
       "      <td>9e3efff1-3d42-46fd-8206-4021277ba6c2</td>\n",
       "      <td>True</td>\n",
       "      <td>False</td>\n",
       "      <td>False</td>\n",
       "      <td>[CREDITCARD, KEY]</td>\n",
       "      <td>[]</td>\n",
       "      <td>35</td>\n",
       "      <td>{'android': 'https://sfo.lft.to/lastmile_qr_sc...</td>\n",
       "      <td>12</td>\n",
       "      <td>classic</td>\n",
       "      <td>Frank H Ogawa Plaza</td>\n",
       "      <td>-122.271738</td>\n",
       "      <td>7</td>\n",
       "      <td>37.804562</td>\n",
       "    </tr>\n",
       "  </tbody>\n",
       "</table>\n",
       "</div>"
      ],
      "text/plain": [
       "  short_name                           external_id  has_kiosk  \\\n",
       "0     SF-G27  1b13a386-c5f4-42cc-bc3b-ded95982e090       True   \n",
       "1     SF-G26  a00d04e6-0159-466a-b3ab-23f9550f418c       True   \n",
       "2     SF-H26  a1e0b4b2-2c5c-4201-a78c-9e8a2152ab4e       True   \n",
       "3     SF-A27  23a2bad4-3ea1-4545-87eb-acbee3efccfc       True   \n",
       "4      OK-L5  9e3efff1-3d42-46fd-8206-4021277ba6c2       True   \n",
       "\n",
       "   eightd_has_key_dispenser  electric_bike_surcharge_waiver  \\\n",
       "0                     False                           False   \n",
       "1                     False                           False   \n",
       "2                     False                           False   \n",
       "3                     False                           False   \n",
       "4                     False                           False   \n",
       "\n",
       "      rental_methods eightd_station_services  capacity  \\\n",
       "0  [CREDITCARD, KEY]                      []        35   \n",
       "1  [CREDITCARD, KEY]                      []        35   \n",
       "2  [CREDITCARD, KEY]                      []        35   \n",
       "3  [CREDITCARD, KEY]                      []        23   \n",
       "4  [CREDITCARD, KEY]                      []        35   \n",
       "\n",
       "                                         rental_uris region_id station_type  \\\n",
       "0  {'android': 'https://sfo.lft.to/lastmile_qr_sc...         3      classic   \n",
       "1  {'android': 'https://sfo.lft.to/lastmile_qr_sc...         3      classic   \n",
       "2  {'android': 'https://sfo.lft.to/lastmile_qr_sc...         3      classic   \n",
       "3  {'android': 'https://sfo.lft.to/lastmile_qr_sc...         3      classic   \n",
       "4  {'android': 'https://sfo.lft.to/lastmile_qr_sc...        12      classic   \n",
       "\n",
       "                                           name         lon station_id  \\\n",
       "0  Powell St BART Station (Market St at 4th St) -122.404904          3   \n",
       "1                   Cyril Magnin St at Ellis St -122.408915          4   \n",
       "2  Powell St BART Station (Market St at 5th St) -122.408445          5   \n",
       "3                 The Embarcadero at Sansome St -122.403234          6   \n",
       "4                           Frank H Ogawa Plaza -122.271738          7   \n",
       "\n",
       "         lat  \n",
       "0  37.786375  \n",
       "1  37.785881  \n",
       "2  37.783899  \n",
       "3  37.804770  \n",
       "4  37.804562  "
      ]
     },
     "execution_count": 8,
     "metadata": {},
     "output_type": "execute_result"
    }
   ],
   "source": [
    "station_info_df.head()"
   ]
  },
  {
   "cell_type": "code",
   "execution_count": 6,
   "metadata": {},
   "outputs": [],
   "source": [
    "sta = pd.read_csv(\"station_information.csv\")"
   ]
  },
  {
   "cell_type": "code",
   "execution_count": 10,
   "metadata": {},
   "outputs": [
    {
     "data": {
      "text/plain": [
       "Index(['Unnamed: 0', 'station_id', 'eightd_station_services', 'lon',\n",
       "       'capacity', 'eightd_has_key_dispenser', 'lat', 'external_id',\n",
       "       'rental_methods', 'name', 'rental_uris', 'has_kiosk', 'short_name',\n",
       "       'electric_bike_surcharge_waiver', 'station_type', 'region_id'],\n",
       "      dtype='object')"
      ]
     },
     "execution_count": 10,
     "metadata": {},
     "output_type": "execute_result"
    }
   ],
   "source": [
    "sta.columns"
   ]
  },
  {
   "cell_type": "code",
   "execution_count": 25,
   "metadata": {},
   "outputs": [
    {
     "data": {
      "text/plain": [
       "array(['3', '12', '5', '13', '14', nan], dtype=object)"
      ]
     },
     "execution_count": 25,
     "metadata": {},
     "output_type": "execute_result"
    }
   ],
   "source": [
    "station_info_df.region_id.unique()"
   ]
  },
  {
   "cell_type": "code",
   "execution_count": 26,
   "metadata": {},
   "outputs": [],
   "source": [
    "url_home = 'https://gbfs.baywheels.com/gbfs/gbfs.json'"
   ]
  },
  {
   "cell_type": "code",
   "execution_count": 27,
   "metadata": {},
   "outputs": [],
   "source": [
    "all_info = requests.get(url_home).json()"
   ]
  },
  {
   "cell_type": "code",
   "execution_count": 35,
   "metadata": {},
   "outputs": [
    {
     "data": {
      "text/plain": [
       "[{'name': 'system_information',\n",
       "  'url': 'https://gbfs.baywheels.com/gbfs/en/system_information.json'},\n",
       " {'name': 'station_information',\n",
       "  'url': 'https://gbfs.baywheels.com/gbfs/en/station_information.json'},\n",
       " {'name': 'station_status',\n",
       "  'url': 'https://gbfs.baywheels.com/gbfs/en/station_status.json'},\n",
       " {'name': 'free_bike_status',\n",
       "  'url': 'https://gbfs.baywheels.com/gbfs/en/free_bike_status.json'},\n",
       " {'name': 'system_hours',\n",
       "  'url': 'https://gbfs.baywheels.com/gbfs/en/system_hours.json'},\n",
       " {'name': 'system_calendar',\n",
       "  'url': 'https://gbfs.baywheels.com/gbfs/en/system_calendar.json'},\n",
       " {'name': 'system_regions',\n",
       "  'url': 'https://gbfs.baywheels.com/gbfs/en/system_regions.json'},\n",
       " {'name': 'system_alerts',\n",
       "  'url': 'https://gbfs.baywheels.com/gbfs/en/system_alerts.json'}]"
      ]
     },
     "execution_count": 35,
     "metadata": {},
     "output_type": "execute_result"
    }
   ],
   "source": [
    "all_info['data']['en']['feeds']"
   ]
  },
  {
   "cell_type": "code",
   "execution_count": 48,
   "metadata": {},
   "outputs": [
    {
     "name": "stdout",
     "output_type": "stream",
     "text": [
      "Key is system_information, value is https://gbfs.baywheels.com/gbfs/en/system_information.json\n",
      "Key is station_information, value is https://gbfs.baywheels.com/gbfs/en/station_information.json\n",
      "Key is station_status, value is https://gbfs.baywheels.com/gbfs/en/station_status.json\n",
      "Key is free_bike_status, value is https://gbfs.baywheels.com/gbfs/en/free_bike_status.json\n",
      "Key is system_hours, value is https://gbfs.baywheels.com/gbfs/en/system_hours.json\n",
      "Key is system_calendar, value is https://gbfs.baywheels.com/gbfs/en/system_calendar.json\n",
      "Key is system_regions, value is https://gbfs.baywheels.com/gbfs/en/system_regions.json\n",
      "Key is system_alerts, value is https://gbfs.baywheels.com/gbfs/en/system_alerts.json\n"
     ]
    }
   ],
   "source": [
    "for i in all_info['data']['en']['feeds']:\n",
    "    print('Key is {a}, value is {b}'.format(a=i['name'], b=i['url']))"
   ]
  },
  {
   "cell_type": "code",
   "execution_count": 26,
   "metadata": {},
   "outputs": [],
   "source": [
    "res = requests.get('https://gbfs.baywheels.com/gbfs/en/station_information.json').json()"
   ]
  },
  {
   "cell_type": "code",
   "execution_count": 27,
   "metadata": {},
   "outputs": [],
   "source": [
    "stations = pd.DataFrame(res['data']['stations'])"
   ]
  },
  {
   "cell_type": "code",
   "execution_count": 28,
   "metadata": {},
   "outputs": [],
   "source": [
    "stations.to_csv('/Users/shuaishao/udacity/bike-share-data-engineering/dataset/station_data/station_data.csv', index=False)"
   ]
  },
  {
   "cell_type": "code",
   "execution_count": 29,
   "metadata": {},
   "outputs": [],
   "source": [
    "station_local = pd.read_csv('/Users/shuaishao/udacity/bike-share-data-engineering/dataset/station_data/station_data.csv')"
   ]
  },
  {
   "cell_type": "code",
   "execution_count": 31,
   "metadata": {},
   "outputs": [
    {
     "data": {
      "text/html": [
       "<div>\n",
       "<style scoped>\n",
       "    .dataframe tbody tr th:only-of-type {\n",
       "        vertical-align: middle;\n",
       "    }\n",
       "\n",
       "    .dataframe tbody tr th {\n",
       "        vertical-align: top;\n",
       "    }\n",
       "\n",
       "    .dataframe thead th {\n",
       "        text-align: right;\n",
       "    }\n",
       "</style>\n",
       "<table border=\"1\" class=\"dataframe\">\n",
       "  <thead>\n",
       "    <tr style=\"text-align: right;\">\n",
       "      <th></th>\n",
       "      <th>short_name</th>\n",
       "      <th>external_id</th>\n",
       "      <th>has_kiosk</th>\n",
       "      <th>eightd_has_key_dispenser</th>\n",
       "      <th>electric_bike_surcharge_waiver</th>\n",
       "      <th>rental_methods</th>\n",
       "      <th>eightd_station_services</th>\n",
       "      <th>capacity</th>\n",
       "      <th>rental_uris</th>\n",
       "      <th>region_id</th>\n",
       "      <th>station_type</th>\n",
       "      <th>name</th>\n",
       "      <th>lon</th>\n",
       "      <th>station_id</th>\n",
       "      <th>lat</th>\n",
       "    </tr>\n",
       "  </thead>\n",
       "  <tbody>\n",
       "    <tr>\n",
       "      <th>0</th>\n",
       "      <td>SF-G27</td>\n",
       "      <td>1b13a386-c5f4-42cc-bc3b-ded95982e090</td>\n",
       "      <td>True</td>\n",
       "      <td>False</td>\n",
       "      <td>False</td>\n",
       "      <td>['KEY', 'CREDITCARD']</td>\n",
       "      <td>[]</td>\n",
       "      <td>35</td>\n",
       "      <td>{'android': 'https://sfo.lft.to/lastmile_qr_sc...</td>\n",
       "      <td>3.0</td>\n",
       "      <td>classic</td>\n",
       "      <td>Powell St BART Station (Market St at 4th St)</td>\n",
       "      <td>-122.404904</td>\n",
       "      <td>3</td>\n",
       "      <td>37.786375</td>\n",
       "    </tr>\n",
       "    <tr>\n",
       "      <th>1</th>\n",
       "      <td>SF-G26</td>\n",
       "      <td>a00d04e6-0159-466a-b3ab-23f9550f418c</td>\n",
       "      <td>True</td>\n",
       "      <td>False</td>\n",
       "      <td>False</td>\n",
       "      <td>['KEY', 'CREDITCARD']</td>\n",
       "      <td>[]</td>\n",
       "      <td>35</td>\n",
       "      <td>{'android': 'https://sfo.lft.to/lastmile_qr_sc...</td>\n",
       "      <td>3.0</td>\n",
       "      <td>classic</td>\n",
       "      <td>Cyril Magnin St at Ellis St</td>\n",
       "      <td>-122.408915</td>\n",
       "      <td>4</td>\n",
       "      <td>37.785881</td>\n",
       "    </tr>\n",
       "    <tr>\n",
       "      <th>2</th>\n",
       "      <td>SF-H26</td>\n",
       "      <td>a1e0b4b2-2c5c-4201-a78c-9e8a2152ab4e</td>\n",
       "      <td>True</td>\n",
       "      <td>False</td>\n",
       "      <td>False</td>\n",
       "      <td>['KEY', 'CREDITCARD']</td>\n",
       "      <td>[]</td>\n",
       "      <td>35</td>\n",
       "      <td>{'android': 'https://sfo.lft.to/lastmile_qr_sc...</td>\n",
       "      <td>3.0</td>\n",
       "      <td>classic</td>\n",
       "      <td>Powell St BART Station (Market St at 5th St)</td>\n",
       "      <td>-122.408445</td>\n",
       "      <td>5</td>\n",
       "      <td>37.783899</td>\n",
       "    </tr>\n",
       "    <tr>\n",
       "      <th>3</th>\n",
       "      <td>SF-A27</td>\n",
       "      <td>23a2bad4-3ea1-4545-87eb-acbee3efccfc</td>\n",
       "      <td>True</td>\n",
       "      <td>False</td>\n",
       "      <td>False</td>\n",
       "      <td>['KEY', 'CREDITCARD']</td>\n",
       "      <td>[]</td>\n",
       "      <td>23</td>\n",
       "      <td>{'android': 'https://sfo.lft.to/lastmile_qr_sc...</td>\n",
       "      <td>3.0</td>\n",
       "      <td>classic</td>\n",
       "      <td>The Embarcadero at Sansome St</td>\n",
       "      <td>-122.403234</td>\n",
       "      <td>6</td>\n",
       "      <td>37.804770</td>\n",
       "    </tr>\n",
       "    <tr>\n",
       "      <th>4</th>\n",
       "      <td>OK-L5</td>\n",
       "      <td>9e3efff1-3d42-46fd-8206-4021277ba6c2</td>\n",
       "      <td>True</td>\n",
       "      <td>False</td>\n",
       "      <td>False</td>\n",
       "      <td>['KEY', 'CREDITCARD']</td>\n",
       "      <td>[]</td>\n",
       "      <td>35</td>\n",
       "      <td>{'android': 'https://sfo.lft.to/lastmile_qr_sc...</td>\n",
       "      <td>12.0</td>\n",
       "      <td>classic</td>\n",
       "      <td>Frank H Ogawa Plaza</td>\n",
       "      <td>-122.271738</td>\n",
       "      <td>7</td>\n",
       "      <td>37.804562</td>\n",
       "    </tr>\n",
       "  </tbody>\n",
       "</table>\n",
       "</div>"
      ],
      "text/plain": [
       "  short_name                           external_id  has_kiosk  \\\n",
       "0     SF-G27  1b13a386-c5f4-42cc-bc3b-ded95982e090       True   \n",
       "1     SF-G26  a00d04e6-0159-466a-b3ab-23f9550f418c       True   \n",
       "2     SF-H26  a1e0b4b2-2c5c-4201-a78c-9e8a2152ab4e       True   \n",
       "3     SF-A27  23a2bad4-3ea1-4545-87eb-acbee3efccfc       True   \n",
       "4      OK-L5  9e3efff1-3d42-46fd-8206-4021277ba6c2       True   \n",
       "\n",
       "   eightd_has_key_dispenser  electric_bike_surcharge_waiver  \\\n",
       "0                     False                           False   \n",
       "1                     False                           False   \n",
       "2                     False                           False   \n",
       "3                     False                           False   \n",
       "4                     False                           False   \n",
       "\n",
       "          rental_methods eightd_station_services  capacity  \\\n",
       "0  ['KEY', 'CREDITCARD']                      []        35   \n",
       "1  ['KEY', 'CREDITCARD']                      []        35   \n",
       "2  ['KEY', 'CREDITCARD']                      []        35   \n",
       "3  ['KEY', 'CREDITCARD']                      []        23   \n",
       "4  ['KEY', 'CREDITCARD']                      []        35   \n",
       "\n",
       "                                         rental_uris  region_id station_type  \\\n",
       "0  {'android': 'https://sfo.lft.to/lastmile_qr_sc...        3.0      classic   \n",
       "1  {'android': 'https://sfo.lft.to/lastmile_qr_sc...        3.0      classic   \n",
       "2  {'android': 'https://sfo.lft.to/lastmile_qr_sc...        3.0      classic   \n",
       "3  {'android': 'https://sfo.lft.to/lastmile_qr_sc...        3.0      classic   \n",
       "4  {'android': 'https://sfo.lft.to/lastmile_qr_sc...       12.0      classic   \n",
       "\n",
       "                                           name         lon  station_id  \\\n",
       "0  Powell St BART Station (Market St at 4th St) -122.404904           3   \n",
       "1                   Cyril Magnin St at Ellis St -122.408915           4   \n",
       "2  Powell St BART Station (Market St at 5th St) -122.408445           5   \n",
       "3                 The Embarcadero at Sansome St -122.403234           6   \n",
       "4                           Frank H Ogawa Plaza -122.271738           7   \n",
       "\n",
       "         lat  \n",
       "0  37.786375  \n",
       "1  37.785881  \n",
       "2  37.783899  \n",
       "3  37.804770  \n",
       "4  37.804562  "
      ]
     },
     "execution_count": 31,
     "metadata": {},
     "output_type": "execute_result"
    }
   ],
   "source": [
    "station_local.head()"
   ]
  },
  {
   "cell_type": "code",
   "execution_count": 25,
   "metadata": {},
   "outputs": [
    {
     "data": {
      "text/html": [
       "<div>\n",
       "<style scoped>\n",
       "    .dataframe tbody tr th:only-of-type {\n",
       "        vertical-align: middle;\n",
       "    }\n",
       "\n",
       "    .dataframe tbody tr th {\n",
       "        vertical-align: top;\n",
       "    }\n",
       "\n",
       "    .dataframe thead th {\n",
       "        text-align: right;\n",
       "    }\n",
       "</style>\n",
       "<table border=\"1\" class=\"dataframe\">\n",
       "  <thead>\n",
       "    <tr style=\"text-align: right;\">\n",
       "      <th></th>\n",
       "      <th>name</th>\n",
       "      <th>region_id</th>\n",
       "    </tr>\n",
       "  </thead>\n",
       "  <tbody>\n",
       "    <tr>\n",
       "      <th>0</th>\n",
       "      <td>San Francisco</td>\n",
       "      <td>3</td>\n",
       "    </tr>\n",
       "    <tr>\n",
       "      <th>1</th>\n",
       "      <td>San Jose</td>\n",
       "      <td>5</td>\n",
       "    </tr>\n",
       "    <tr>\n",
       "      <th>2</th>\n",
       "      <td>Oakland</td>\n",
       "      <td>12</td>\n",
       "    </tr>\n",
       "    <tr>\n",
       "      <th>3</th>\n",
       "      <td>Emeryville</td>\n",
       "      <td>13</td>\n",
       "    </tr>\n",
       "    <tr>\n",
       "      <th>4</th>\n",
       "      <td>Berkeley</td>\n",
       "      <td>14</td>\n",
       "    </tr>\n",
       "    <tr>\n",
       "      <th>5</th>\n",
       "      <td>8D</td>\n",
       "      <td>23</td>\n",
       "    </tr>\n",
       "  </tbody>\n",
       "</table>\n",
       "</div>"
      ],
      "text/plain": [
       "            name  region_id\n",
       "0  San Francisco          3\n",
       "1       San Jose          5\n",
       "2        Oakland         12\n",
       "3     Emeryville         13\n",
       "4       Berkeley         14\n",
       "5             8D         23"
      ]
     },
     "execution_count": 25,
     "metadata": {},
     "output_type": "execute_result"
    }
   ],
   "source": [
    "region_local"
   ]
  },
  {
   "cell_type": "code",
   "execution_count": null,
   "metadata": {},
   "outputs": [],
   "source": []
  }
 ],
 "metadata": {
  "kernelspec": {
   "display_name": "Python 3",
   "language": "python",
   "name": "python3"
  },
  "language_info": {
   "codemirror_mode": {
    "name": "ipython",
    "version": 3
   },
   "file_extension": ".py",
   "mimetype": "text/x-python",
   "name": "python",
   "nbconvert_exporter": "python",
   "pygments_lexer": "ipython3",
   "version": "3.8.2"
  }
 },
 "nbformat": 4,
 "nbformat_minor": 4
}
